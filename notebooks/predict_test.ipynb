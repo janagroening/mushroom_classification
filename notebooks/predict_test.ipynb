{
 "cells": [
  {
   "cell_type": "code",
   "execution_count": 1,
   "metadata": {},
   "outputs": [],
   "source": [
    "import requests"
   ]
  },
  {
   "cell_type": "code",
   "execution_count": 7,
   "metadata": {},
   "outputs": [],
   "source": [
    "url = 'http://localhost:9696/predict'"
   ]
  },
  {
   "cell_type": "code",
   "execution_count": 8,
   "metadata": {},
   "outputs": [],
   "source": [
    "mushroom = {\"cap_shape\": \"b\", \n",
    "            \"cap_surface\": \"s\", \n",
    "            \"cap_color\": \"y\", \n",
    "            \"bruises\": \"t\", \n",
    "            \"odor\": \"a\", \n",
    "            \"gill_attachment\": \"a\", \n",
    "            \"gill_spacing\": \"c\", \n",
    "            \"gill_size\": \"b\", \n",
    "            \"gill_color\": \"y\", \n",
    "            \"stalk_shape\": \"e\", \n",
    "            \"stalk_root\": \"b\", \n",
    "            \"stalk_surface_above_ring\": \"s\", \n",
    "            \"stalk_surface_below_ring\": \"s\", \n",
    "            \"stalk_color_above_ring\": \"w\", \n",
    "            \"stalk_color_below_ring\": \"w\", \n",
    "            \"veil_type\": \"p\", \n",
    "            \"veil_color\": \"w\", \n",
    "            \"ring_number\": \"o\", \n",
    "            \"ring_type\": \"p\", \n",
    "            \"spore_print_color\": \"w\", \n",
    "            \"population\": \"s\", \n",
    "            \"habitat\": \"g\"}"
   ]
  },
  {
   "cell_type": "code",
   "execution_count": 9,
   "metadata": {},
   "outputs": [
    {
     "name": "stdout",
     "output_type": "stream",
     "text": [
      "{'class': True, 'class_probability': 0.6239995222674566}\n"
     ]
    }
   ],
   "source": [
    "response = requests.post(url, json=mushroom).json()\n",
    "print(response)"
   ]
  },
  {
   "cell_type": "code",
   "execution_count": 10,
   "metadata": {},
   "outputs": [
    {
     "name": "stdout",
     "output_type": "stream",
     "text": [
      "The mushroom is poisonous\n"
     ]
    }
   ],
   "source": [
    "if response['class'] == True:\n",
    "    print('The mushroom is poisonous')\n",
    "else:\n",
    "    print('The mushroom is edible')"
   ]
  }
 ],
 "metadata": {
  "kernelspec": {
   "display_name": "ml-zoomcamp-ubuntu",
   "language": "python",
   "name": "python3"
  },
  "language_info": {
   "codemirror_mode": {
    "name": "ipython",
    "version": 3
   },
   "file_extension": ".py",
   "mimetype": "text/x-python",
   "name": "python",
   "nbconvert_exporter": "python",
   "pygments_lexer": "ipython3",
   "version": "3.11.10"
  }
 },
 "nbformat": 4,
 "nbformat_minor": 2
}
